{
 "cells": [
  {
   "cell_type": "markdown",
   "metadata": {},
   "source": [
    "# BBC Weather API"
   ]
  },
  {
   "cell_type": "code",
   "execution_count": 6,
   "metadata": {},
   "outputs": [],
   "source": [
    "from urllib.parse import urlencode\n",
    "import requests"
   ]
  },
  {
   "cell_type": "code",
   "execution_count": 7,
   "metadata": {},
   "outputs": [
    {
     "data": {
      "text/plain": [
       "{'response': {'results': {'results': [{'id': '1264527',\n",
       "     'name': 'Chennai',\n",
       "     'container': 'India',\n",
       "     'containerId': 1269750,\n",
       "     'language': 'en',\n",
       "     'timezone': 'Asia/Kolkata',\n",
       "     'country': 'IN',\n",
       "     'latitude': 13.08784,\n",
       "     'longitude': 80.27847,\n",
       "     'placeType': 'settlement'},\n",
       "    {'id': '6301127',\n",
       "     'name': 'Chennai International Airport',\n",
       "     'container': 'India',\n",
       "     'containerId': 1269750,\n",
       "     'language': 'en',\n",
       "     'timezone': 'Asia/Kolkata',\n",
       "     'country': 'IN',\n",
       "     'latitude': 12.98833,\n",
       "     'longitude': 80.16578,\n",
       "     'placeType': 'airport'}],\n",
       "   'totalResults': 2}}}"
      ]
     },
     "execution_count": 7,
     "metadata": {},
     "output_type": "execute_result"
    }
   ],
   "source": [
    "# While we search Chennai, this API call is triggered\n",
    "# Using this API call, we cant get the id for chennai\n",
    "response = requests.get(url=\"https://locator-service.api.bbci.co.uk/locations?api_key=AGbFAKx58hyjQScCXIYrxuEwJh2W2cmv&stack=aws&locale=en&filter=international&place-types=settlement%2Cairport%2Cdistrict&order=importance&s=Chennai&a=true&format=json\")\n",
    "data = response.json()\n",
    "data"
   ]
  },
  {
   "cell_type": "code",
   "execution_count": 10,
   "metadata": {},
   "outputs": [
    {
     "data": {
      "text/plain": [
       "'1264527'"
      ]
     },
     "execution_count": 10,
     "metadata": {},
     "output_type": "execute_result"
    }
   ],
   "source": [
    "# id for chennai\n",
    "data['response']['results']['results'][0]['id']"
   ]
  },
  {
   "cell_type": "code",
   "execution_count": 12,
   "metadata": {},
   "outputs": [],
   "source": [
    "# convert the steps into a function, and make location as the parameter \n",
    "def get_id(location):\n",
    "    '''\n",
    "    returns the id of the location\n",
    "    '''\n",
    "    base_url_id = \"https://locator-service.api.bbci.co.uk/locations?\" + urlencode({\n",
    "        \"api_key\":\"AGbFAKx58hyjQScCXIYrxuEwJh2W2cmv\",\n",
    "        \"stack\":\"aws\",\n",
    "        \"locale\":\"en\",\n",
    "        \"filter\":\"international\",\n",
    "        \"place-types\":\"settlement, airport, district\",\n",
    "        \"order\":\"importance\",\n",
    "        \"s\":location,\n",
    "        \"a\":\"true\",\n",
    "        \"format\":\"json\"\n",
    "    })\n",
    "    response = requests.get(url=base_url_id)\n",
    "    data = response.json()\n",
    "    \n",
    "    return data['response']['results']['results'][0]['id']"
   ]
  },
  {
   "cell_type": "code",
   "execution_count": 13,
   "metadata": {},
   "outputs": [
    {
     "data": {
      "text/plain": [
       "'1275004'"
      ]
     },
     "execution_count": 13,
     "metadata": {},
     "output_type": "execute_result"
    }
   ],
   "source": [
    "get_id(\"Kolkata\") # gets the id for Kolkata"
   ]
  },
  {
   "cell_type": "code",
   "execution_count": 14,
   "metadata": {},
   "outputs": [
    {
     "data": {
      "text/plain": [
       "'2643743'"
      ]
     },
     "execution_count": 14,
     "metadata": {},
     "output_type": "execute_result"
    }
   ],
   "source": [
    "get_id(\"London\") # gets the id for London"
   ]
  },
  {
   "cell_type": "code",
   "execution_count": 18,
   "metadata": {},
   "outputs": [
    {
     "name": "stdout",
     "output_type": "stream",
     "text": [
      "Data has been saved to 'weather_data_kolkata.json'\n"
     ]
    }
   ],
   "source": [
    "# now that we have the id, let us get the weather data for a location\n",
    "# say, the location is Kolkata, India \n",
    "import json\n",
    "\n",
    "id = get_id('Kolkata')\n",
    "base_url = f\"https://weather-broker-cdn.api.bbci.co.uk/en/forecast/aggregated/{id}\"\n",
    "\n",
    "response = requests.get(url=base_url)\n",
    "\n",
    "if response.status_code == 200:\n",
    "    data = response.json()\n",
    "    \n",
    "    # Directly write the prettified JSON data to a file\n",
    "    with open('./JSON/weather_data_kolkata.json', 'w') as f:\n",
    "        json.dump(data, f, indent=4)  # indent=4 for pretty formatting\n",
    "    \n",
    "    print(\"Data has been saved to 'weather_data_kolkata.json'\")\n",
    "else:\n",
    "    print(f\"Error: {response.status_code}\")"
   ]
  },
  {
   "cell_type": "code",
   "execution_count": null,
   "metadata": {},
   "outputs": [],
   "source": []
  }
 ],
 "metadata": {
  "kernelspec": {
   "display_name": "base",
   "language": "python",
   "name": "python3"
  },
  "language_info": {
   "codemirror_mode": {
    "name": "ipython",
    "version": 3
   },
   "file_extension": ".py",
   "mimetype": "text/x-python",
   "name": "python",
   "nbconvert_exporter": "python",
   "pygments_lexer": "ipython3",
   "version": "3.11.7"
  }
 },
 "nbformat": 4,
 "nbformat_minor": 2
}
