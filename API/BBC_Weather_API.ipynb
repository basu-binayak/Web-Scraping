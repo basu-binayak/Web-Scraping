{
 "cells": [
  {
   "cell_type": "markdown",
   "metadata": {},
   "source": [
    "# BBC Weather API"
   ]
  },
  {
   "cell_type": "code",
   "execution_count": 6,
   "metadata": {},
   "outputs": [],
   "source": [
    "from urllib.parse import urlencode\n",
    "import requests"
   ]
  },
  {
   "cell_type": "code",
   "execution_count": 7,
   "metadata": {},
   "outputs": [
    {
     "data": {
      "text/plain": [
       "{'response': {'results': {'results': [{'id': '1264527',\n",
       "     'name': 'Chennai',\n",
       "     'container': 'India',\n",
       "     'containerId': 1269750,\n",
       "     'language': 'en',\n",
       "     'timezone': 'Asia/Kolkata',\n",
       "     'country': 'IN',\n",
       "     'latitude': 13.08784,\n",
       "     'longitude': 80.27847,\n",
       "     'placeType': 'settlement'},\n",
       "    {'id': '6301127',\n",
       "     'name': 'Chennai International Airport',\n",
       "     'container': 'India',\n",
       "     'containerId': 1269750,\n",
       "     'language': 'en',\n",
       "     'timezone': 'Asia/Kolkata',\n",
       "     'country': 'IN',\n",
       "     'latitude': 12.98833,\n",
       "     'longitude': 80.16578,\n",
       "     'placeType': 'airport'}],\n",
       "   'totalResults': 2}}}"
      ]
     },
     "execution_count": 7,
     "metadata": {},
     "output_type": "execute_result"
    }
   ],
   "source": [
    "# While we search Chennai, this API call is triggered\n",
    "# Using this API call, we cant get the id for chennai\n",
    "response = requests.get(url=\"https://locator-service.api.bbci.co.uk/locations?api_key=AGbFAKx58hyjQScCXIYrxuEwJh2W2cmv&stack=aws&locale=en&filter=international&place-types=settlement%2Cairport%2Cdistrict&order=importance&s=Chennai&a=true&format=json\")\n",
    "data = response.json()\n",
    "data"
   ]
  },
  {
   "cell_type": "code",
   "execution_count": 10,
   "metadata": {},
   "outputs": [
    {
     "data": {
      "text/plain": [
       "'1264527'"
      ]
     },
     "execution_count": 10,
     "metadata": {},
     "output_type": "execute_result"
    }
   ],
   "source": [
    "# id for chennai\n",
    "data['response']['results']['results'][0]['id']"
   ]
  },
  {
   "cell_type": "code",
   "execution_count": 12,
   "metadata": {},
   "outputs": [],
   "source": [
    "# convert the steps into a function, and make location as the parameter \n",
    "def get_id(location):\n",
    "    '''\n",
    "    returns the id of the location\n",
    "    '''\n",
    "    base_url_id = \"https://locator-service.api.bbci.co.uk/locations?\" + urlencode({\n",
    "        \"api_key\":\"AGbFAKx58hyjQScCXIYrxuEwJh2W2cmv\",\n",
    "        \"stack\":\"aws\",\n",
    "        \"locale\":\"en\",\n",
    "        \"filter\":\"international\",\n",
    "        \"place-types\":\"settlement, airport, district\",\n",
    "        \"order\":\"importance\",\n",
    "        \"s\":location,\n",
    "        \"a\":\"true\",\n",
    "        \"format\":\"json\"\n",
    "    })\n",
    "    response = requests.get(url=base_url_id)\n",
    "    data = response.json()\n",
    "    \n",
    "    return data['response']['results']['results'][0]['id']"
   ]
  },
  {
   "cell_type": "code",
   "execution_count": 13,
   "metadata": {},
   "outputs": [
    {
     "data": {
      "text/plain": [
       "'1275004'"
      ]
     },
     "execution_count": 13,
     "metadata": {},
     "output_type": "execute_result"
    }
   ],
   "source": [
    "get_id(\"Kolkata\") # gets the id for Kolkata"
   ]
  },
  {
   "cell_type": "code",
   "execution_count": 14,
   "metadata": {},
   "outputs": [
    {
     "data": {
      "text/plain": [
       "'2643743'"
      ]
     },
     "execution_count": 14,
     "metadata": {},
     "output_type": "execute_result"
    }
   ],
   "source": [
    "get_id(\"London\") # gets the id for London"
   ]
  },
  {
   "cell_type": "code",
   "execution_count": 18,
   "metadata": {},
   "outputs": [
    {
     "name": "stdout",
     "output_type": "stream",
     "text": [
      "Data has been saved to 'weather_data_kolkata.json'\n"
     ]
    }
   ],
   "source": [
    "# now that we have the id, let us get the weather data for a location\n",
    "# say, the location is Kolkata, India \n",
    "import json\n",
    "\n",
    "id = get_id('Kolkata')\n",
    "base_url = f\"https://weather-broker-cdn.api.bbci.co.uk/en/forecast/aggregated/{id}\"\n",
    "\n",
    "response = requests.get(url=base_url)\n",
    "\n",
    "if response.status_code == 200:\n",
    "    data = response.json()\n",
    "    \n",
    "    # Directly write the prettified JSON data to a file\n",
    "    with open('./JSON/weather_data_kolkata.json', 'w') as f:\n",
    "        json.dump(data, f, indent=4)  # indent=4 for pretty formatting\n",
    "    \n",
    "    print(\"Data has been saved to 'weather_data_kolkata.json'\")\n",
    "else:\n",
    "    print(f\"Error: {response.status_code}\")"
   ]
  },
  {
   "cell_type": "code",
   "execution_count": 19,
   "metadata": {},
   "outputs": [
    {
     "data": {
      "text/plain": [
       "dict_keys(['forecasts', 'isNight', 'issueDate', 'lastUpdated', 'location', 'message', 'night'])"
      ]
     },
     "execution_count": 19,
     "metadata": {},
     "output_type": "execute_result"
    }
   ],
   "source": [
    "data.keys() # the keys of the json"
   ]
  },
  {
   "cell_type": "code",
   "execution_count": 21,
   "metadata": {},
   "outputs": [
    {
     "name": "stdout",
     "output_type": "stream",
     "text": [
      "    localDate timeslot  temperatureC  feelsLikeTemperatureC  humidity  \\\n",
      "0  2024-10-10    20:30            28                     39        86   \n",
      "1  2024-10-10    21:30            28                     39        85   \n",
      "2  2024-10-10    22:30            28                     39        85   \n",
      "3  2024-10-10    23:30            27                     39        89   \n",
      "4  2024-10-11    00:30            27                     39        87   \n",
      "\n",
      "   precipitationProbability  windSpeedKph     weatherDescription  \n",
      "0                         3         18380  Hurricane force winds  \n",
      "1                         2         18380  Hurricane force winds  \n",
      "2                         2         18380  Hurricane force winds  \n",
      "3                         2         18380  Hurricane force winds  \n",
      "4                         0         18380  Hurricane force winds  \n"
     ]
    }
   ],
   "source": [
    "# convert this data to a pandas dataframe\n",
    "\n",
    "import pandas as pd\n",
    "\n",
    "# Load the JSON data from the file\n",
    "with open('./JSON/weather_data_kolkata.json', 'r') as f:\n",
    "    data = json.load(f)\n",
    "\n",
    "# Extracting the 'reports' from the detailed section\n",
    "reports = []\n",
    "\n",
    "# Looping through forecasts and collecting reports data\n",
    "for forecast in data['forecasts']:\n",
    "    for report in forecast['detailed']['reports']:\n",
    "        reports.append({\n",
    "            'localDate': report['localDate'],\n",
    "            'timeslot': report['timeslot'],\n",
    "            'temperatureC': report['temperatureC'],\n",
    "            'feelsLikeTemperatureC': report['feelsLikeTemperatureC'],\n",
    "            'humidity': report['humidity'],\n",
    "            'precipitationProbability': report['precipitationProbabilityInPercent'],\n",
    "            'windSpeedKph': report['windSpeedKph'],\n",
    "            'weatherDescription': report['enhancedWeatherDescription']\n",
    "        })\n",
    "\n",
    "# Convert the list of reports to a DataFrame\n",
    "df = pd.DataFrame(reports)\n",
    "\n",
    "# Show the DataFrame\n",
    "print(df.head())\n",
    "\n",
    "# Save to CSV if needed\n",
    "df.to_csv('./CSV/weather_data_kolkata.csv', index=False)"
   ]
  },
  {
   "cell_type": "code",
   "execution_count": 22,
   "metadata": {},
   "outputs": [],
   "source": [
    "# write a function to generalize this for any location\n",
    "\n",
    "def weather_data_in_csv(location):\n",
    "    id = get_id(location=location)\n",
    "    base_url = f\"https://weather-broker-cdn.api.bbci.co.uk/en/forecast/aggregated/{id}\"\n",
    "\n",
    "    response = requests.get(url=base_url)\n",
    "\n",
    "    if response.status_code == 200:\n",
    "        data = response.json()\n",
    "        \n",
    "        # Directly write the prettified JSON data to a file\n",
    "        file_path = f\"./JSON/weather_data_{location}.json\"\n",
    "        with open(file_path, 'w') as f:\n",
    "            json.dump(data, f, indent=4)  # indent=4 for pretty formatting\n",
    "        \n",
    "        print(f\"Data has been saved to {file_path}\")\n",
    "    else:\n",
    "        print(f\"Error: {response.status_code}\")\n",
    "        \n",
    "    # convert this data to a pandas dataframe\n",
    "\n",
    "    # Load the JSON data from the file\n",
    "    with open(file_path, 'r') as f:\n",
    "        data = json.load(f)\n",
    "\n",
    "    # Extracting the 'reports' from the detailed section\n",
    "    reports = []\n",
    "\n",
    "    # Looping through forecasts and collecting reports data\n",
    "    for forecast in data['forecasts']:\n",
    "        for report in forecast['detailed']['reports']:\n",
    "            reports.append({\n",
    "                'localDate': report['localDate'],\n",
    "                'timeslot': report['timeslot'],\n",
    "                'temperatureC': report['temperatureC'],\n",
    "                'feelsLikeTemperatureC': report['feelsLikeTemperatureC'],\n",
    "                'humidity': report['humidity'],\n",
    "                'precipitationProbability': report['precipitationProbabilityInPercent'],\n",
    "                'windSpeedKph': report['windSpeedKph'],\n",
    "                'weatherDescription': report['enhancedWeatherDescription']\n",
    "            })\n",
    "\n",
    "    # Convert the list of reports to a DataFrame\n",
    "    df = pd.DataFrame(reports)\n",
    "\n",
    "    # Show the DataFrame\n",
    "    print(df.head())\n",
    "\n",
    "    # Save to CSV if needed\n",
    "    csv_path = f\"./CSV/weather_data_{location}.csv\"\n",
    "    df.to_csv(csv_path, index=False)"
   ]
  },
  {
   "cell_type": "code",
   "execution_count": 23,
   "metadata": {},
   "outputs": [
    {
     "name": "stdout",
     "output_type": "stream",
     "text": [
      "Data has been saved to ./JSON/weather_data_London.json\n",
      "    localDate timeslot  temperatureC  feelsLikeTemperatureC  humidity  \\\n",
      "0  2024-10-10    16:00            12                      7        57   \n",
      "1  2024-10-10    17:00            11                      6        57   \n",
      "2  2024-10-10    18:00            10                      5        60   \n",
      "3  2024-10-10    19:00            10                      4        63   \n",
      "4  2024-10-10    20:00             9                      2        68   \n",
      "\n",
      "   precipitationProbability  windSpeedKph     weatherDescription  \n",
      "0                         0           185  Hurricane force winds  \n",
      "1                         0           185  Hurricane force winds  \n",
      "2                         0           185  Hurricane force winds  \n",
      "3                         0           185  Hurricane force winds  \n",
      "4                         0           185  Hurricane force winds  \n"
     ]
    }
   ],
   "source": [
    "# call the function for London\n",
    "weather_data_in_csv(location='London')"
   ]
  },
  {
   "cell_type": "code",
   "execution_count": 24,
   "metadata": {},
   "outputs": [
    {
     "name": "stdout",
     "output_type": "stream",
     "text": [
      "Data has been saved to ./JSON/weather_data_Dubai.json\n",
      "    localDate timeslot  temperatureC  feelsLikeTemperatureC  humidity  \\\n",
      "0  2024-10-10    19:00            33                     42        56   \n",
      "1  2024-10-10    20:00            32                     42        60   \n",
      "2  2024-10-10    21:00            31                     42        65   \n",
      "3  2024-10-10    22:00            31                     42        68   \n",
      "4  2024-10-10    23:00            30                     41        72   \n",
      "\n",
      "   precipitationProbability  windSpeedKph     weatherDescription  \n",
      "0                         0         21624  Hurricane force winds  \n",
      "1                         0         21624  Hurricane force winds  \n",
      "2                         0         21624  Hurricane force winds  \n",
      "3                         0         21624  Hurricane force winds  \n",
      "4                         0         21624  Hurricane force winds  \n"
     ]
    }
   ],
   "source": [
    "# let's now call it for Dubai\n",
    "weather_data_in_csv(location='Dubai')"
   ]
  },
  {
   "cell_type": "markdown",
   "metadata": {},
   "source": [
    "Go to the `CSV` folder and the `JSON` folder to view the scraped data from the weather API!"
   ]
  }
 ],
 "metadata": {
  "kernelspec": {
   "display_name": "base",
   "language": "python",
   "name": "python3"
  },
  "language_info": {
   "codemirror_mode": {
    "name": "ipython",
    "version": 3
   },
   "file_extension": ".py",
   "mimetype": "text/x-python",
   "name": "python",
   "nbconvert_exporter": "python",
   "pygments_lexer": "ipython3",
   "version": "3.11.7"
  }
 },
 "nbformat": 4,
 "nbformat_minor": 2
}
